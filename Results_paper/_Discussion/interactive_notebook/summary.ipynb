{
 "cells": [
  {
   "cell_type": "markdown",
   "metadata": {},
   "source": [
    "# Choose your sampling technique\n",
    "## Discussion: Top 3 techniques across configurations"
   ]
  },
  {
   "cell_type": "code",
   "execution_count": 1,
   "metadata": {},
   "outputs": [],
   "source": [
    "import pandas as pd\n",
    "import ipywidgets as widgets\n",
    "from ipywidgets import interact, interact_manual\n",
    "import warnings\n",
    "warnings.filterwarnings('ignore')"
   ]
  },
  {
   "cell_type": "code",
   "execution_count": 2,
   "metadata": {},
   "outputs": [],
   "source": [
    "df = pd.read_csv(\"results.csv\")"
   ]
  },
  {
   "cell_type": "code",
   "execution_count": 3,
   "metadata": {},
   "outputs": [],
   "source": [
    "def compute_top(task,dataset,aux,budget):\n",
    "        df_temp = df.loc[df[\"budget\"] <= budget]\n",
    "        if(task!=\"\"):\n",
    "                df_temp = df.loc[df[\"task\"] == task]\n",
    "        if(dataset!=\"\"):\n",
    "                df_temp = df_temp.loc[df[\"dataset\"] == dataset]\n",
    "        if(aux!=\"\"):\n",
    "                df_temp = df_temp.loc[df[\"aux\"] == aux]\n",
    "        display(pd.DataFrame((df_temp[\"RMSE_top1\"].append(df_temp[\"RMSE_top2\"]).append(df_temp[\"RMSE_top3\"])).value_counts(),columns=[\"RMSE\"]))\n",
    "        display(pd.DataFrame((df_temp[\"RMedSE_top1\"].append(df_temp[\"RMedSE_top2\"]).append(df_temp[\"RMedSE_top3\"])).value_counts(),columns=[\"RMedSE\"]))\n",
    "        display(pd.DataFrame((df_temp[\"failures_top1\"].append(df_temp[\"failures_top2\"]).append(df_temp[\"failures_top3\"])).value_counts(),columns=[\"Failures\"]))\n",
    "\n",
    "\n"
   ]
  },
  {
   "cell_type": "markdown",
   "metadata": {},
   "source": [
    "### Interactive widgets"
   ]
  },
  {
   "cell_type": "code",
   "execution_count": 4,
   "metadata": {
    "scrolled": true
   },
   "outputs": [
    {
     "data": {
      "application/vnd.jupyter.widget-view+json": {
       "model_id": "1b870867cdbd405795e44a72a9e66a31",
       "version_major": 2,
       "version_minor": 0
      },
      "text/plain": [
       "interactive(children=(Dropdown(description='task', options=('', 'Classification', 'Regression'), value=''), Dr…"
      ]
     },
     "metadata": {},
     "output_type": "display_data"
    },
    {
     "data": {
      "text/plain": [
       "<function __main__.compute_top(task, dataset, aux, budget)>"
      ]
     },
     "execution_count": 4,
     "metadata": {},
     "output_type": "execute_result"
    }
   ],
   "source": [
    "interact(compute_top,task=[\"\",\"Classification\",\"Regression\"],aux=[\"\",\"confidence\",\"lsa\",\"dsa\",\"SAE\",\"VAE\"],budget=800,dataset=[\"\",\"MNIST\",\"CIFAR10\",\"CIFAR100\",\"Udacity\"])"
   ]
  },
  {
   "cell_type": "markdown",
   "metadata": {},
   "source": [
    "### Example of usage"
   ]
  },
  {
   "cell_type": "code",
   "execution_count": 5,
   "metadata": {},
   "outputs": [
    {
     "data": {
      "text/html": [
       "<div>\n",
       "<style scoped>\n",
       "    .dataframe tbody tr th:only-of-type {\n",
       "        vertical-align: middle;\n",
       "    }\n",
       "\n",
       "    .dataframe tbody tr th {\n",
       "        vertical-align: top;\n",
       "    }\n",
       "\n",
       "    .dataframe thead th {\n",
       "        text-align: right;\n",
       "    }\n",
       "</style>\n",
       "<table border=\"1\" class=\"dataframe\">\n",
       "  <thead>\n",
       "    <tr style=\"text-align: right;\">\n",
       "      <th></th>\n",
       "      <th>RMSE</th>\n",
       "    </tr>\n",
       "  </thead>\n",
       "  <tbody>\n",
       "    <tr>\n",
       "      <th>GBS</th>\n",
       "      <td>95</td>\n",
       "    </tr>\n",
       "    <tr>\n",
       "      <th>SSRS</th>\n",
       "      <td>88</td>\n",
       "    </tr>\n",
       "    <tr>\n",
       "      <th>SUPS</th>\n",
       "      <td>64</td>\n",
       "    </tr>\n",
       "    <tr>\n",
       "      <th>RHC-S</th>\n",
       "      <td>58</td>\n",
       "    </tr>\n",
       "    <tr>\n",
       "      <th>SRS</th>\n",
       "      <td>57</td>\n",
       "    </tr>\n",
       "    <tr>\n",
       "      <th>CES</th>\n",
       "      <td>36</td>\n",
       "    </tr>\n",
       "    <tr>\n",
       "      <th>2-UPS</th>\n",
       "      <td>5</td>\n",
       "    </tr>\n",
       "    <tr>\n",
       "      <th>DeepEST</th>\n",
       "      <td>2</td>\n",
       "    </tr>\n",
       "  </tbody>\n",
       "</table>\n",
       "</div>"
      ],
      "text/plain": [
       "         RMSE\n",
       "GBS        95\n",
       "SSRS       88\n",
       "SUPS       64\n",
       "RHC-S      58\n",
       "SRS        57\n",
       "CES        36\n",
       "2-UPS       5\n",
       "DeepEST     2"
      ]
     },
     "metadata": {},
     "output_type": "display_data"
    },
    {
     "data": {
      "text/html": [
       "<div>\n",
       "<style scoped>\n",
       "    .dataframe tbody tr th:only-of-type {\n",
       "        vertical-align: middle;\n",
       "    }\n",
       "\n",
       "    .dataframe tbody tr th {\n",
       "        vertical-align: top;\n",
       "    }\n",
       "\n",
       "    .dataframe thead th {\n",
       "        text-align: right;\n",
       "    }\n",
       "</style>\n",
       "<table border=\"1\" class=\"dataframe\">\n",
       "  <thead>\n",
       "    <tr style=\"text-align: right;\">\n",
       "      <th></th>\n",
       "      <th>RMedSE</th>\n",
       "    </tr>\n",
       "  </thead>\n",
       "  <tbody>\n",
       "    <tr>\n",
       "      <th>SSRS</th>\n",
       "      <td>86</td>\n",
       "    </tr>\n",
       "    <tr>\n",
       "      <th>GBS</th>\n",
       "      <td>79</td>\n",
       "    </tr>\n",
       "    <tr>\n",
       "      <th>SRS</th>\n",
       "      <td>67</td>\n",
       "    </tr>\n",
       "    <tr>\n",
       "      <th>SUPS</th>\n",
       "      <td>58</td>\n",
       "    </tr>\n",
       "    <tr>\n",
       "      <th>RHC-S</th>\n",
       "      <td>51</td>\n",
       "    </tr>\n",
       "    <tr>\n",
       "      <th>CES</th>\n",
       "      <td>51</td>\n",
       "    </tr>\n",
       "    <tr>\n",
       "      <th>2-UPS</th>\n",
       "      <td>10</td>\n",
       "    </tr>\n",
       "    <tr>\n",
       "      <th>DeepEST</th>\n",
       "      <td>3</td>\n",
       "    </tr>\n",
       "  </tbody>\n",
       "</table>\n",
       "</div>"
      ],
      "text/plain": [
       "         RMedSE\n",
       "SSRS         86\n",
       "GBS          79\n",
       "SRS          67\n",
       "SUPS         58\n",
       "RHC-S        51\n",
       "CES          51\n",
       "2-UPS        10\n",
       "DeepEST       3"
      ]
     },
     "metadata": {},
     "output_type": "display_data"
    },
    {
     "data": {
      "text/html": [
       "<div>\n",
       "<style scoped>\n",
       "    .dataframe tbody tr th:only-of-type {\n",
       "        vertical-align: middle;\n",
       "    }\n",
       "\n",
       "    .dataframe tbody tr th {\n",
       "        vertical-align: top;\n",
       "    }\n",
       "\n",
       "    .dataframe thead th {\n",
       "        text-align: right;\n",
       "    }\n",
       "</style>\n",
       "<table border=\"1\" class=\"dataframe\">\n",
       "  <thead>\n",
       "    <tr style=\"text-align: right;\">\n",
       "      <th></th>\n",
       "      <th>Failures</th>\n",
       "    </tr>\n",
       "  </thead>\n",
       "  <tbody>\n",
       "    <tr>\n",
       "      <th>DeepEST</th>\n",
       "      <td>106</td>\n",
       "    </tr>\n",
       "    <tr>\n",
       "      <th>SUPS</th>\n",
       "      <td>94</td>\n",
       "    </tr>\n",
       "    <tr>\n",
       "      <th>RHC-S</th>\n",
       "      <td>91</td>\n",
       "    </tr>\n",
       "    <tr>\n",
       "      <th>2-UPS</th>\n",
       "      <td>85</td>\n",
       "    </tr>\n",
       "    <tr>\n",
       "      <th>SSRS</th>\n",
       "      <td>15</td>\n",
       "    </tr>\n",
       "    <tr>\n",
       "      <th>GBS</th>\n",
       "      <td>12</td>\n",
       "    </tr>\n",
       "    <tr>\n",
       "      <th>SRS</th>\n",
       "      <td>2</td>\n",
       "    </tr>\n",
       "  </tbody>\n",
       "</table>\n",
       "</div>"
      ],
      "text/plain": [
       "         Failures\n",
       "DeepEST       106\n",
       "SUPS           94\n",
       "RHC-S          91\n",
       "2-UPS          85\n",
       "SSRS           15\n",
       "GBS            12\n",
       "SRS             2"
      ]
     },
     "metadata": {},
     "output_type": "display_data"
    }
   ],
   "source": [
    "compute_top(\"Classification\",\"\",\"\",800)\n"
   ]
  },
  {
   "cell_type": "code",
   "execution_count": null,
   "metadata": {},
   "outputs": [],
   "source": []
  }
 ],
 "metadata": {
  "kernelspec": {
   "display_name": "Python 3",
   "language": "python",
   "name": "python3"
  },
  "language_info": {
   "codemirror_mode": {
    "name": "ipython",
    "version": 3
   },
   "file_extension": ".py",
   "mimetype": "text/x-python",
   "name": "python",
   "nbconvert_exporter": "python",
   "pygments_lexer": "ipython3",
   "version": "3.9.2"
  },
  "widgets": {
   "application/vnd.jupyter.widget-state+json": {
    "state": {
     "046d60ac65ab4a7ca09bd8e7b07406e3": {
      "model_module": "@jupyter-widgets/controls",
      "model_module_version": "1.5.0",
      "model_name": "DropdownModel",
      "state": {
       "_options_labels": [
        "",
        "Classification",
        "Regression"
       ],
       "description": "task",
       "index": 2,
       "layout": "IPY_MODEL_24fd343f8c384fbf8cfdfbc23832fb7a",
       "style": "IPY_MODEL_7ebb12a6759143fdb043f69846800764"
      }
     },
     "1b870867cdbd405795e44a72a9e66a31": {
      "model_module": "@jupyter-widgets/controls",
      "model_module_version": "1.5.0",
      "model_name": "VBoxModel",
      "state": {
       "_dom_classes": [
        "widget-interact"
       ],
       "children": [
        "IPY_MODEL_046d60ac65ab4a7ca09bd8e7b07406e3",
        "IPY_MODEL_7df2b80449af4c77914bf69295633a1c",
        "IPY_MODEL_aaa7a3a0e0ed431097a88135ebcb8758",
        "IPY_MODEL_96bba4df0f11404d9fd8fb2d5d41914c",
        "IPY_MODEL_a6c1e1e7613147b8a3b3639399f09069"
       ],
       "layout": "IPY_MODEL_ee5e1f27994a417e882926aaae857470"
      }
     },
     "24fd343f8c384fbf8cfdfbc23832fb7a": {
      "model_module": "@jupyter-widgets/base",
      "model_module_version": "1.2.0",
      "model_name": "LayoutModel",
      "state": {}
     },
     "2a6492e681134c2abe57ab963ba96546": {
      "model_module": "@jupyter-widgets/base",
      "model_module_version": "1.2.0",
      "model_name": "LayoutModel",
      "state": {}
     },
     "32a3ef76ee5e44438bc9d05fb25508ee": {
      "model_module": "@jupyter-widgets/base",
      "model_module_version": "1.2.0",
      "model_name": "LayoutModel",
      "state": {}
     },
     "7df2b80449af4c77914bf69295633a1c": {
      "model_module": "@jupyter-widgets/controls",
      "model_module_version": "1.5.0",
      "model_name": "DropdownModel",
      "state": {
       "_options_labels": [
        "",
        "MNIST",
        "CIFAR10",
        "CIFAR100",
        "Udacity"
       ],
       "description": "dataset",
       "index": 0,
       "layout": "IPY_MODEL_2a6492e681134c2abe57ab963ba96546",
       "style": "IPY_MODEL_c2bd8262090d45489b1f869ded2c1b1a"
      }
     },
     "7ebb12a6759143fdb043f69846800764": {
      "model_module": "@jupyter-widgets/controls",
      "model_module_version": "1.5.0",
      "model_name": "DescriptionStyleModel",
      "state": {
       "description_width": ""
      }
     },
     "8a528cf4eb49407eab505d40000ef32a": {
      "model_module": "@jupyter-widgets/controls",
      "model_module_version": "1.5.0",
      "model_name": "DescriptionStyleModel",
      "state": {
       "description_width": ""
      }
     },
     "96bba4df0f11404d9fd8fb2d5d41914c": {
      "model_module": "@jupyter-widgets/controls",
      "model_module_version": "1.5.0",
      "model_name": "IntSliderModel",
      "state": {
       "description": "budget",
       "layout": "IPY_MODEL_e31a0f3324aa49aa94d3e34a229d83bf",
       "max": 2400,
       "min": -800,
       "style": "IPY_MODEL_e370a85a070a4914adbfc706399f2ff4",
       "value": 800
      }
     },
     "a6c1e1e7613147b8a3b3639399f09069": {
      "model_module": "@jupyter-widgets/output",
      "model_module_version": "1.0.0",
      "model_name": "OutputModel",
      "state": {
       "layout": "IPY_MODEL_32a3ef76ee5e44438bc9d05fb25508ee",
       "outputs": [
        {
         "data": {
          "text/html": "<div>\n<style scoped>\n    .dataframe tbody tr th:only-of-type {\n        vertical-align: middle;\n    }\n\n    .dataframe tbody tr th {\n        vertical-align: top;\n    }\n\n    .dataframe thead th {\n        text-align: right;\n    }\n</style>\n<table border=\"1\" class=\"dataframe\">\n  <thead>\n    <tr style=\"text-align: right;\">\n      <th></th>\n      <th>RMSE</th>\n    </tr>\n  </thead>\n  <tbody>\n    <tr>\n      <th>CES</th>\n      <td>20</td>\n    </tr>\n    <tr>\n      <th>SSRS</th>\n      <td>19</td>\n    </tr>\n    <tr>\n      <th>RHC-S</th>\n      <td>18</td>\n    </tr>\n    <tr>\n      <th>SRS</th>\n      <td>17</td>\n    </tr>\n    <tr>\n      <th>SUPS</th>\n      <td>16</td>\n    </tr>\n  </tbody>\n</table>\n</div>",
          "text/plain": "       RMSE\nCES      20\nSSRS     19\nRHC-S    18\nSRS      17\nSUPS     16"
         },
         "metadata": {},
         "output_type": "display_data"
        },
        {
         "data": {
          "text/html": "<div>\n<style scoped>\n    .dataframe tbody tr th:only-of-type {\n        vertical-align: middle;\n    }\n\n    .dataframe tbody tr th {\n        vertical-align: top;\n    }\n\n    .dataframe thead th {\n        text-align: right;\n    }\n</style>\n<table border=\"1\" class=\"dataframe\">\n  <thead>\n    <tr style=\"text-align: right;\">\n      <th></th>\n      <th>RMedSE</th>\n    </tr>\n  </thead>\n  <tbody>\n    <tr>\n      <th>SSRS</th>\n      <td>24</td>\n    </tr>\n    <tr>\n      <th>SUPS</th>\n      <td>18</td>\n    </tr>\n    <tr>\n      <th>RHC-S</th>\n      <td>15</td>\n    </tr>\n    <tr>\n      <th>SRS</th>\n      <td>15</td>\n    </tr>\n    <tr>\n      <th>CES</th>\n      <td>14</td>\n    </tr>\n    <tr>\n      <th>2-UPS</th>\n      <td>3</td>\n    </tr>\n    <tr>\n      <th>DeepEST</th>\n      <td>1</td>\n    </tr>\n  </tbody>\n</table>\n</div>",
          "text/plain": "         RMedSE\nSSRS         24\nSUPS         18\nRHC-S        15\nSRS          15\nCES          14\n2-UPS         3\nDeepEST       1"
         },
         "metadata": {},
         "output_type": "display_data"
        },
        {
         "data": {
          "text/html": "<div>\n<style scoped>\n    .dataframe tbody tr th:only-of-type {\n        vertical-align: middle;\n    }\n\n    .dataframe tbody tr th {\n        vertical-align: top;\n    }\n\n    .dataframe thead th {\n        text-align: right;\n    }\n</style>\n<table border=\"1\" class=\"dataframe\">\n  <thead>\n    <tr style=\"text-align: right;\">\n      <th></th>\n      <th>Failures</th>\n    </tr>\n  </thead>\n  <tbody>\n    <tr>\n      <th>SSRS</th>\n      <td>19</td>\n    </tr>\n    <tr>\n      <th>SUPS</th>\n      <td>16</td>\n    </tr>\n    <tr>\n      <th>GBS</th>\n      <td>16</td>\n    </tr>\n    <tr>\n      <th>RHC-S</th>\n      <td>13</td>\n    </tr>\n    <tr>\n      <th>2-UPS</th>\n      <td>13</td>\n    </tr>\n    <tr>\n      <th>DeepEST</th>\n      <td>7</td>\n    </tr>\n    <tr>\n      <th>CES</th>\n      <td>6</td>\n    </tr>\n  </tbody>\n</table>\n</div>",
          "text/plain": "         Failures\nSSRS           19\nSUPS           16\nGBS            16\nRHC-S          13\n2-UPS          13\nDeepEST         7\nCES             6"
         },
         "metadata": {},
         "output_type": "display_data"
        }
       ]
      }
     },
     "aaa7a3a0e0ed431097a88135ebcb8758": {
      "model_module": "@jupyter-widgets/controls",
      "model_module_version": "1.5.0",
      "model_name": "DropdownModel",
      "state": {
       "_options_labels": [
        "",
        "confidence",
        "lsa",
        "dsa",
        "SAE",
        "VAE"
       ],
       "description": "aux",
       "index": 0,
       "layout": "IPY_MODEL_b17988819b69436e8bc7017fc02ef7ea",
       "style": "IPY_MODEL_8a528cf4eb49407eab505d40000ef32a"
      }
     },
     "b17988819b69436e8bc7017fc02ef7ea": {
      "model_module": "@jupyter-widgets/base",
      "model_module_version": "1.2.0",
      "model_name": "LayoutModel",
      "state": {}
     },
     "c2bd8262090d45489b1f869ded2c1b1a": {
      "model_module": "@jupyter-widgets/controls",
      "model_module_version": "1.5.0",
      "model_name": "DescriptionStyleModel",
      "state": {
       "description_width": ""
      }
     },
     "e31a0f3324aa49aa94d3e34a229d83bf": {
      "model_module": "@jupyter-widgets/base",
      "model_module_version": "1.2.0",
      "model_name": "LayoutModel",
      "state": {}
     },
     "e370a85a070a4914adbfc706399f2ff4": {
      "model_module": "@jupyter-widgets/controls",
      "model_module_version": "1.5.0",
      "model_name": "SliderStyleModel",
      "state": {
       "description_width": ""
      }
     },
     "ee5e1f27994a417e882926aaae857470": {
      "model_module": "@jupyter-widgets/base",
      "model_module_version": "1.2.0",
      "model_name": "LayoutModel",
      "state": {}
     }
    },
    "version_major": 2,
    "version_minor": 0
   }
  }
 },
 "nbformat": 4,
 "nbformat_minor": 2
}
