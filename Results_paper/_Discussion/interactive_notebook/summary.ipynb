{
 "cells": [
  {
   "cell_type": "code",
   "execution_count": 9,
   "metadata": {},
   "outputs": [],
   "source": [
    "import pandas as pd\n",
    "import ipywidgets as widgets\n",
    "from ipywidgets import interact, interact_manual\n",
    "import warnings\n",
    "warnings.filterwarnings('ignore')"
   ]
  },
  {
   "cell_type": "code",
   "execution_count": 11,
   "metadata": {},
   "outputs": [],
   "source": [
    "df = pd.read_csv(\"results.csv\")"
   ]
  },
  {
   "cell_type": "code",
   "execution_count": 13,
   "metadata": {},
   "outputs": [
    {
     "data": {
      "application/vnd.jupyter.widget-view+json": {
       "model_id": "707c88650dee4f978defbc0ab528bb9d",
       "version_major": 2,
       "version_minor": 0
      },
      "text/plain": [
       "interactive(children=(Dropdown(description='task', options=('', 'Classification', 'Regression'), value=''), Dr…"
      ]
     },
     "metadata": {},
     "output_type": "display_data"
    },
    {
     "data": {
      "text/plain": [
       "<function __main__.select_budget(task, dataset, aux, budget)>"
      ]
     },
     "execution_count": 13,
     "metadata": {},
     "output_type": "execute_result"
    }
   ],
   "source": [
    "def select_budget(task,dataset,aux,budget):\n",
    "        df_temp = df.loc[df[\"budget\"] <= budget]\n",
    "        if(task!=\"\"):\n",
    "                df_temp = df.loc[df[\"task\"] == task]\n",
    "        if(dataset!=\"\"):\n",
    "                df_temp = df_temp.loc[df[\"dataset\"] == dataset]\n",
    "        if(aux!=\"\"):\n",
    "                df_temp = df_temp.loc[df[\"aux\"] == aux]\n",
    "        display(pd.DataFrame((df_temp[\"RMSE_top1\"].append(df_temp[\"RMSE_top2\"]).append(df_temp[\"RMSE_top3\"])).value_counts(),columns=[\"RMSE\"]))\n",
    "        display(pd.DataFrame((df_temp[\"RMedSE_top1\"].append(df_temp[\"RMedSE_top2\"]).append(df_temp[\"RMedSE_top3\"])).value_counts(),columns=[\"RMedSE\"]))\n",
    "        display(pd.DataFrame((df_temp[\"failures_top1\"].append(df_temp[\"failures_top2\"]).append(df_temp[\"failures_top3\"])).value_counts(),columns=[\"Failures\"]))\n",
    "\n",
    "interact(select_budget,task=[\"\",\"Classification\",\"Regression\"],aux=[\"\",\"confidence\",\"lsa\",\"dsa\",\"SAE\",\"VAE\"],budget=800,dataset=[\"\",\"MNIST\",\"CIFAR10\",\"CIFAR100\",\"Udacity\"])\n"
   ]
  },
  {
   "cell_type": "code",
   "execution_count": null,
   "metadata": {},
   "outputs": [],
   "source": []
  }
 ],
 "metadata": {
  "kernelspec": {
   "display_name": "Python 3",
   "language": "python",
   "name": "python3"
  },
  "language_info": {
   "codemirror_mode": {
    "name": "ipython",
    "version": 3
   },
   "file_extension": ".py",
   "mimetype": "text/x-python",
   "name": "python",
   "nbconvert_exporter": "python",
   "pygments_lexer": "ipython3",
   "version": "3.9.2"
  }
 },
 "nbformat": 4,
 "nbformat_minor": 2
}
